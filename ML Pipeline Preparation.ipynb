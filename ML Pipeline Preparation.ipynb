{
 "cells": [
  {
   "cell_type": "markdown",
   "metadata": {},
   "source": [
    "# ML Pipeline Preparation\n",
    "Follow the instructions below to help you create your ML pipeline.\n",
    "### 1. Import libraries and load data from database.\n",
    "- Import Python libraries\n",
    "- Load dataset from database with [`read_sql_table`](https://pandas.pydata.org/pandas-docs/stable/generated/pandas.read_sql_table.html)\n",
    "- Define feature and target variables X and Y"
   ]
  },
  {
   "cell_type": "code",
   "execution_count": 1,
   "metadata": {},
   "outputs": [
    {
     "name": "stdout",
     "output_type": "stream",
     "text": [
      "[nltk_data] Downloading package punkt to /root/nltk_data...\n",
      "[nltk_data]   Unzipping tokenizers/punkt.zip.\n",
      "[nltk_data] Downloading package wordnet to /root/nltk_data...\n",
      "[nltk_data]   Unzipping corpora/wordnet.zip.\n"
     ]
    }
   ],
   "source": [
    "# import libraries\n",
    "import numpy as np\n",
    "import pandas as pd\n",
    "from sqlalchemy import create_engine\n",
    "from sklearn.ensemble import RandomForestClassifier\n",
    "from sklearn.feature_extraction.text import CountVectorizer, TfidfTransformer\n",
    "from sklearn.metrics import precision_recall_fscore_support, classification_report\n",
    "from sklearn.model_selection import train_test_split, GridSearchCV\n",
    "from sklearn.multioutput import MultiOutputClassifier\n",
    "from sklearn.pipeline import Pipeline\n",
    "import pickle\n",
    "\n",
    "import nltk\n",
    "nltk.download(['punkt', 'wordnet'])\n",
    "from nltk.tokenize import word_tokenize\n",
    "from nltk.stem import WordNetLemmatizer"
   ]
  },
  {
   "cell_type": "code",
   "execution_count": 2,
   "metadata": {},
   "outputs": [],
   "source": [
    "# load data from database\n",
    "engine = create_engine('sqlite:///DisasterResponse.db')\n",
    "df = pd.read_sql(\"SELECT * FROM Cleaned_Data\", engine)\n",
    "X = df['message']\n",
    "Y = df.iloc[:,4:]"
   ]
  },
  {
   "cell_type": "code",
   "execution_count": 3,
   "metadata": {},
   "outputs": [
    {
     "data": {
      "text/plain": [
       "id                            0\n",
       "message                       0\n",
       "original                  16046\n",
       "genre                         0\n",
       "related                       0\n",
       "request                       0\n",
       "offer                         0\n",
       "aid_related                   0\n",
       "medical_help                  0\n",
       "medical_products              0\n",
       "search_and_rescue             0\n",
       "security                      0\n",
       "military                      0\n",
       "child_alone                   0\n",
       "water                         0\n",
       "food                          0\n",
       "shelter                       0\n",
       "clothing                      0\n",
       "money                         0\n",
       "missing_people                0\n",
       "refugees                      0\n",
       "death                         0\n",
       "other_aid                     0\n",
       "infrastructure_related        0\n",
       "transport                     0\n",
       "buildings                     0\n",
       "electricity                   0\n",
       "tools                         0\n",
       "hospitals                     0\n",
       "shops                         0\n",
       "aid_centers                   0\n",
       "other_infrastructure          0\n",
       "weather_related               0\n",
       "floods                        0\n",
       "storm                         0\n",
       "fire                          0\n",
       "earthquake                    0\n",
       "cold                          0\n",
       "other_weather                 0\n",
       "direct_report                 0\n",
       "dtype: int64"
      ]
     },
     "execution_count": 3,
     "metadata": {},
     "output_type": "execute_result"
    }
   ],
   "source": [
    "df.isnull().sum()"
   ]
  },
  {
   "cell_type": "markdown",
   "metadata": {},
   "source": [
    "### 2. Write a tokenization function to process your text data"
   ]
  },
  {
   "cell_type": "code",
   "execution_count": 4,
   "metadata": {},
   "outputs": [],
   "source": [
    "def tokenize(text):\n",
    "    tokens = word_tokenize(text)\n",
    "    lemmatizer = WordNetLemmatizer()\n",
    "    clean_tokens = []\n",
    "    for tok in tokens:\n",
    "        clean_tok = lemmatizer.lemmatize(tok).lower().strip()\n",
    "        clean_tokens.append(clean_tok)\n",
    "    return clean_tokens"
   ]
  },
  {
   "cell_type": "markdown",
   "metadata": {},
   "source": [
    "### 3. Build a machine learning pipeline\n",
    "This machine pipeline should take in the `message` column as input and output classification results on the other 36 categories in the dataset. You may find the [MultiOutputClassifier](http://scikit-learn.org/stable/modules/generated/sklearn.multioutput.MultiOutputClassifier.html) helpful for predicting multiple target variables."
   ]
  },
  {
   "cell_type": "code",
   "execution_count": 5,
   "metadata": {},
   "outputs": [],
   "source": [
    "def model_pipeline():\n",
    "    forest = RandomForestClassifier()\n",
    "    clf = MultiOutputClassifier(forest)\n",
    "    pipeline = Pipeline([('vect', CountVectorizer(tokenizer=tokenize)),\n",
    "                     ('tfidf', TfidfTransformer()),\n",
    "                     ('clf', clf)\n",
    "                    ])\n",
    "    return pipeline"
   ]
  },
  {
   "cell_type": "markdown",
   "metadata": {},
   "source": [
    "### 4. Train pipeline\n",
    "- Split data into train and test sets\n",
    "- Train pipeline"
   ]
  },
  {
   "cell_type": "code",
   "execution_count": 6,
   "metadata": {},
   "outputs": [],
   "source": [
    "# split the training set and test set\n",
    "X_train, X_test, Y_train, Y_test = train_test_split(X, Y, test_size=0.3, shuffle = True, random_state=42)\n",
    "# train pipeline\n",
    "model = model_pipeline()\n",
    "model.fit(X_train, Y_train)\n",
    "# predict the test set\n",
    "Y_pred = model.predict(X_test)"
   ]
  },
  {
   "cell_type": "markdown",
   "metadata": {},
   "source": [
    "### 5. Test your model\n",
    "Report the f1 score, precision and recall for each output category of the dataset. You can do this by iterating through the columns and calling sklearn's `classification_report` on each."
   ]
  },
  {
   "cell_type": "code",
   "execution_count": 7,
   "metadata": {},
   "outputs": [
    {
     "name": "stdout",
     "output_type": "stream",
     "text": [
      "                        precision    recall  f1-score   support\n",
      "\n",
      "               related       0.81      0.93      0.87      5934\n",
      "               request       0.82      0.34      0.48      1332\n",
      "                 offer       0.00      0.00      0.00        36\n",
      "           aid_related       0.75      0.53      0.62      3219\n",
      "          medical_help       0.68      0.08      0.15       638\n",
      "      medical_products       0.61      0.08      0.14       418\n",
      "     search_and_rescue       0.50      0.04      0.07       192\n",
      "              security       0.00      0.00      0.00       144\n",
      "              military       0.36      0.04      0.07       245\n",
      "           child_alone       0.00      0.00      0.00         0\n",
      "                 water       0.90      0.23      0.36       500\n",
      "                  food       0.88      0.26      0.40       878\n",
      "               shelter       0.82      0.21      0.33       705\n",
      "              clothing       0.60      0.03      0.05       115\n",
      "                 money       0.80      0.05      0.09       170\n",
      "        missing_people       1.00      0.01      0.02        92\n",
      "              refugees       0.43      0.01      0.02       260\n",
      "                 death       0.98      0.11      0.20       366\n",
      "             other_aid       0.54      0.05      0.09      1033\n",
      "infrastructure_related       0.29      0.00      0.01       505\n",
      "             transport       0.74      0.11      0.19       362\n",
      "             buildings       0.82      0.11      0.19       392\n",
      "           electricity       0.64      0.05      0.10       168\n",
      "                 tools       0.00      0.00      0.00        48\n",
      "             hospitals       0.00      0.00      0.00        78\n",
      "                 shops       0.00      0.00      0.00        28\n",
      "           aid_centers       0.00      0.00      0.00       103\n",
      "  other_infrastructure       0.00      0.00      0.00       341\n",
      "       weather_related       0.85      0.55      0.67      2163\n",
      "                floods       0.88      0.30      0.44       623\n",
      "                 storm       0.76      0.30      0.43       738\n",
      "                  fire       0.00      0.00      0.00        83\n",
      "            earthquake       0.87      0.53      0.66       702\n",
      "                  cold       0.69      0.13      0.22       171\n",
      "         other_weather       0.77      0.07      0.12       415\n",
      "         direct_report       0.77      0.28      0.41      1544\n",
      "\n",
      "           avg / total       0.74      0.44      0.50     24741\n",
      "\n"
     ]
    },
    {
     "name": "stderr",
     "output_type": "stream",
     "text": [
      "/opt/conda/lib/python3.6/site-packages/sklearn/metrics/classification.py:1135: UndefinedMetricWarning: Precision and F-score are ill-defined and being set to 0.0 in labels with no predicted samples.\n",
      "  'precision', 'predicted', average, warn_for)\n",
      "/opt/conda/lib/python3.6/site-packages/sklearn/metrics/classification.py:1137: UndefinedMetricWarning: Recall and F-score are ill-defined and being set to 0.0 in labels with no true samples.\n",
      "  'recall', 'true', average, warn_for)\n"
     ]
    }
   ],
   "source": [
    "print(classification_report(Y_test.values, Y_pred, target_names=Y.columns.values))"
   ]
  },
  {
   "cell_type": "markdown",
   "metadata": {},
   "source": [
    "### 6. Improve your model\n",
    "Use grid search to find better parameters. "
   ]
  },
  {
   "cell_type": "code",
   "execution_count": 9,
   "metadata": {},
   "outputs": [
    {
     "data": {
      "text/plain": [
       "{'memory': None,\n",
       " 'steps': [('vect',\n",
       "   CountVectorizer(analyzer='word', binary=False, decode_error='strict',\n",
       "           dtype=<class 'numpy.int64'>, encoding='utf-8', input='content',\n",
       "           lowercase=True, max_df=1.0, max_features=None, min_df=1,\n",
       "           ngram_range=(1, 1), preprocessor=None, stop_words=None,\n",
       "           strip_accents=None, token_pattern='(?u)\\\\b\\\\w\\\\w+\\\\b',\n",
       "           tokenizer=<function tokenize at 0x7f931cd94048>, vocabulary=None)),\n",
       "  ('tfidf',\n",
       "   TfidfTransformer(norm='l2', smooth_idf=True, sublinear_tf=False, use_idf=True)),\n",
       "  ('clf',\n",
       "   MultiOutputClassifier(estimator=RandomForestClassifier(bootstrap=True, class_weight=None, criterion='gini',\n",
       "               max_depth=None, max_features='auto', max_leaf_nodes=None,\n",
       "               min_impurity_decrease=0.0, min_impurity_split=None,\n",
       "               min_samples_leaf=1, min_samples_split=2,\n",
       "               min_weight_fraction_leaf=0.0, n_estimators=10, n_jobs=1,\n",
       "               oob_score=False, random_state=None, verbose=0,\n",
       "               warm_start=False),\n",
       "              n_jobs=1))],\n",
       " 'vect': CountVectorizer(analyzer='word', binary=False, decode_error='strict',\n",
       "         dtype=<class 'numpy.int64'>, encoding='utf-8', input='content',\n",
       "         lowercase=True, max_df=1.0, max_features=None, min_df=1,\n",
       "         ngram_range=(1, 1), preprocessor=None, stop_words=None,\n",
       "         strip_accents=None, token_pattern='(?u)\\\\b\\\\w\\\\w+\\\\b',\n",
       "         tokenizer=<function tokenize at 0x7f931cd94048>, vocabulary=None),\n",
       " 'tfidf': TfidfTransformer(norm='l2', smooth_idf=True, sublinear_tf=False, use_idf=True),\n",
       " 'clf': MultiOutputClassifier(estimator=RandomForestClassifier(bootstrap=True, class_weight=None, criterion='gini',\n",
       "             max_depth=None, max_features='auto', max_leaf_nodes=None,\n",
       "             min_impurity_decrease=0.0, min_impurity_split=None,\n",
       "             min_samples_leaf=1, min_samples_split=2,\n",
       "             min_weight_fraction_leaf=0.0, n_estimators=10, n_jobs=1,\n",
       "             oob_score=False, random_state=None, verbose=0,\n",
       "             warm_start=False),\n",
       "            n_jobs=1),\n",
       " 'vect__analyzer': 'word',\n",
       " 'vect__binary': False,\n",
       " 'vect__decode_error': 'strict',\n",
       " 'vect__dtype': numpy.int64,\n",
       " 'vect__encoding': 'utf-8',\n",
       " 'vect__input': 'content',\n",
       " 'vect__lowercase': True,\n",
       " 'vect__max_df': 1.0,\n",
       " 'vect__max_features': None,\n",
       " 'vect__min_df': 1,\n",
       " 'vect__ngram_range': (1, 1),\n",
       " 'vect__preprocessor': None,\n",
       " 'vect__stop_words': None,\n",
       " 'vect__strip_accents': None,\n",
       " 'vect__token_pattern': '(?u)\\\\b\\\\w\\\\w+\\\\b',\n",
       " 'vect__tokenizer': <function __main__.tokenize(text)>,\n",
       " 'vect__vocabulary': None,\n",
       " 'tfidf__norm': 'l2',\n",
       " 'tfidf__smooth_idf': True,\n",
       " 'tfidf__sublinear_tf': False,\n",
       " 'tfidf__use_idf': True,\n",
       " 'clf__estimator__bootstrap': True,\n",
       " 'clf__estimator__class_weight': None,\n",
       " 'clf__estimator__criterion': 'gini',\n",
       " 'clf__estimator__max_depth': None,\n",
       " 'clf__estimator__max_features': 'auto',\n",
       " 'clf__estimator__max_leaf_nodes': None,\n",
       " 'clf__estimator__min_impurity_decrease': 0.0,\n",
       " 'clf__estimator__min_impurity_split': None,\n",
       " 'clf__estimator__min_samples_leaf': 1,\n",
       " 'clf__estimator__min_samples_split': 2,\n",
       " 'clf__estimator__min_weight_fraction_leaf': 0.0,\n",
       " 'clf__estimator__n_estimators': 10,\n",
       " 'clf__estimator__n_jobs': 1,\n",
       " 'clf__estimator__oob_score': False,\n",
       " 'clf__estimator__random_state': None,\n",
       " 'clf__estimator__verbose': 0,\n",
       " 'clf__estimator__warm_start': False,\n",
       " 'clf__estimator': RandomForestClassifier(bootstrap=True, class_weight=None, criterion='gini',\n",
       "             max_depth=None, max_features='auto', max_leaf_nodes=None,\n",
       "             min_impurity_decrease=0.0, min_impurity_split=None,\n",
       "             min_samples_leaf=1, min_samples_split=2,\n",
       "             min_weight_fraction_leaf=0.0, n_estimators=10, n_jobs=1,\n",
       "             oob_score=False, random_state=None, verbose=0,\n",
       "             warm_start=False),\n",
       " 'clf__n_jobs': 1}"
      ]
     },
     "execution_count": 9,
     "metadata": {},
     "output_type": "execute_result"
    }
   ],
   "source": [
    "# first let's see what parameters are included in the pipeline\n",
    "model.get_params()"
   ]
  },
  {
   "cell_type": "code",
   "execution_count": 10,
   "metadata": {},
   "outputs": [
    {
     "name": "stdout",
     "output_type": "stream",
     "text": [
      "Fitting 3 folds for each of 8 candidates, totalling 24 fits\n",
      "[CV] clf__estimator__min_samples_split=2, clf__estimator__n_estimators=100, vect__max_df=0.75, vect__max_features=5000, vect__ngram_range=(1, 2) \n",
      "[CV]  clf__estimator__min_samples_split=2, clf__estimator__n_estimators=100, vect__max_df=0.75, vect__max_features=5000, vect__ngram_range=(1, 2), score=0.2560078469838156, total= 4.6min\n",
      "[CV] clf__estimator__min_samples_split=2, clf__estimator__n_estimators=100, vect__max_df=0.75, vect__max_features=5000, vect__ngram_range=(1, 2) \n"
     ]
    },
    {
     "name": "stderr",
     "output_type": "stream",
     "text": [
      "[Parallel(n_jobs=1)]: Done   1 out of   1 | elapsed:  5.0min remaining:    0.0s\n"
     ]
    },
    {
     "name": "stdout",
     "output_type": "stream",
     "text": [
      "[CV]  clf__estimator__min_samples_split=2, clf__estimator__n_estimators=100, vect__max_df=0.75, vect__max_features=5000, vect__ngram_range=(1, 2), score=0.262873957822462, total= 4.6min\n",
      "[CV] clf__estimator__min_samples_split=2, clf__estimator__n_estimators=100, vect__max_df=0.75, vect__max_features=5000, vect__ngram_range=(1, 2) \n"
     ]
    },
    {
     "name": "stderr",
     "output_type": "stream",
     "text": [
      "[Parallel(n_jobs=1)]: Done   2 out of   2 | elapsed: 10.1min remaining:    0.0s\n"
     ]
    },
    {
     "name": "stdout",
     "output_type": "stream",
     "text": [
      "[CV]  clf__estimator__min_samples_split=2, clf__estimator__n_estimators=100, vect__max_df=0.75, vect__max_features=5000, vect__ngram_range=(1, 2), score=0.26123916952754617, total= 4.6min\n",
      "[CV] clf__estimator__min_samples_split=2, clf__estimator__n_estimators=100, vect__max_df=0.75, vect__max_features=10000, vect__ngram_range=(1, 2) \n"
     ]
    },
    {
     "name": "stderr",
     "output_type": "stream",
     "text": [
      "[Parallel(n_jobs=1)]: Done   3 out of   3 | elapsed: 15.2min remaining:    0.0s\n"
     ]
    },
    {
     "name": "stdout",
     "output_type": "stream",
     "text": [
      "[CV]  clf__estimator__min_samples_split=2, clf__estimator__n_estimators=100, vect__max_df=0.75, vect__max_features=10000, vect__ngram_range=(1, 2), score=0.25698871996076506, total= 4.9min\n",
      "[CV] clf__estimator__min_samples_split=2, clf__estimator__n_estimators=100, vect__max_df=0.75, vect__max_features=10000, vect__ngram_range=(1, 2) \n"
     ]
    },
    {
     "name": "stderr",
     "output_type": "stream",
     "text": [
      "[Parallel(n_jobs=1)]: Done   4 out of   4 | elapsed: 20.7min remaining:    0.0s\n"
     ]
    },
    {
     "name": "stdout",
     "output_type": "stream",
     "text": [
      "[CV]  clf__estimator__min_samples_split=2, clf__estimator__n_estimators=100, vect__max_df=0.75, vect__max_features=10000, vect__ngram_range=(1, 2), score=0.2574791564492398, total= 4.9min\n",
      "[CV] clf__estimator__min_samples_split=2, clf__estimator__n_estimators=100, vect__max_df=0.75, vect__max_features=10000, vect__ngram_range=(1, 2) \n",
      "[CV]  clf__estimator__min_samples_split=2, clf__estimator__n_estimators=100, vect__max_df=0.75, vect__max_features=10000, vect__ngram_range=(1, 2), score=0.26042177538008826, total= 5.0min\n",
      "[CV] clf__estimator__min_samples_split=2, clf__estimator__n_estimators=100, vect__max_df=1.0, vect__max_features=5000, vect__ngram_range=(1, 2) \n",
      "[CV]  clf__estimator__min_samples_split=2, clf__estimator__n_estimators=100, vect__max_df=1.0, vect__max_features=5000, vect__ngram_range=(1, 2), score=0.25420957985940823, total= 4.6min\n",
      "[CV] clf__estimator__min_samples_split=2, clf__estimator__n_estimators=100, vect__max_df=1.0, vect__max_features=5000, vect__ngram_range=(1, 2) \n",
      "[CV]  clf__estimator__min_samples_split=2, clf__estimator__n_estimators=100, vect__max_df=1.0, vect__max_features=5000, vect__ngram_range=(1, 2), score=0.26222004250449565, total= 4.7min\n",
      "[CV] clf__estimator__min_samples_split=2, clf__estimator__n_estimators=100, vect__max_df=1.0, vect__max_features=5000, vect__ngram_range=(1, 2) \n",
      "[CV]  clf__estimator__min_samples_split=2, clf__estimator__n_estimators=100, vect__max_df=1.0, vect__max_features=5000, vect__ngram_range=(1, 2), score=0.2671244073892431, total= 4.7min\n",
      "[CV] clf__estimator__min_samples_split=2, clf__estimator__n_estimators=100, vect__max_df=1.0, vect__max_features=10000, vect__ngram_range=(1, 2) \n",
      "[CV]  clf__estimator__min_samples_split=2, clf__estimator__n_estimators=100, vect__max_df=1.0, vect__max_features=10000, vect__ngram_range=(1, 2), score=0.254700016347883, total= 4.9min\n",
      "[CV] clf__estimator__min_samples_split=2, clf__estimator__n_estimators=100, vect__max_df=1.0, vect__max_features=10000, vect__ngram_range=(1, 2) \n",
      "[CV]  clf__estimator__min_samples_split=2, clf__estimator__n_estimators=100, vect__max_df=1.0, vect__max_features=10000, vect__ngram_range=(1, 2), score=0.2651626614353441, total= 5.0min\n",
      "[CV] clf__estimator__min_samples_split=2, clf__estimator__n_estimators=100, vect__max_df=1.0, vect__max_features=10000, vect__ngram_range=(1, 2) \n",
      "[CV]  clf__estimator__min_samples_split=2, clf__estimator__n_estimators=100, vect__max_df=1.0, vect__max_features=10000, vect__ngram_range=(1, 2), score=0.25698871996076506, total= 5.0min\n",
      "[CV] clf__estimator__min_samples_split=3, clf__estimator__n_estimators=100, vect__max_df=0.75, vect__max_features=5000, vect__ngram_range=(1, 2) \n",
      "[CV]  clf__estimator__min_samples_split=3, clf__estimator__n_estimators=100, vect__max_df=0.75, vect__max_features=5000, vect__ngram_range=(1, 2), score=0.26140264835703775, total= 4.4min\n",
      "[CV] clf__estimator__min_samples_split=3, clf__estimator__n_estimators=100, vect__max_df=0.75, vect__max_features=5000, vect__ngram_range=(1, 2) \n",
      "[CV]  clf__estimator__min_samples_split=3, clf__estimator__n_estimators=100, vect__max_df=0.75, vect__max_features=5000, vect__ngram_range=(1, 2), score=0.25976786006212194, total= 4.5min\n",
      "[CV] clf__estimator__min_samples_split=3, clf__estimator__n_estimators=100, vect__max_df=0.75, vect__max_features=5000, vect__ngram_range=(1, 2) \n",
      "[CV]  clf__estimator__min_samples_split=3, clf__estimator__n_estimators=100, vect__max_df=0.75, vect__max_features=5000, vect__ngram_range=(1, 2), score=0.2617296060160209, total= 4.5min\n",
      "[CV] clf__estimator__min_samples_split=3, clf__estimator__n_estimators=100, vect__max_df=0.75, vect__max_features=10000, vect__ngram_range=(1, 2) \n",
      "[CV]  clf__estimator__min_samples_split=3, clf__estimator__n_estimators=100, vect__max_df=0.75, vect__max_features=10000, vect__ngram_range=(1, 2), score=0.2525747915644924, total= 4.7min\n",
      "[CV] clf__estimator__min_samples_split=3, clf__estimator__n_estimators=100, vect__max_df=0.75, vect__max_features=10000, vect__ngram_range=(1, 2) \n",
      "[CV]  clf__estimator__min_samples_split=3, clf__estimator__n_estimators=100, vect__max_df=0.75, vect__max_features=10000, vect__ngram_range=(1, 2), score=0.26042177538008826, total= 4.7min\n",
      "[CV] clf__estimator__min_samples_split=3, clf__estimator__n_estimators=100, vect__max_df=0.75, vect__max_features=10000, vect__ngram_range=(1, 2) \n",
      "[CV]  clf__estimator__min_samples_split=3, clf__estimator__n_estimators=100, vect__max_df=0.75, vect__max_features=10000, vect__ngram_range=(1, 2), score=0.2591139447441556, total= 4.7min\n",
      "[CV] clf__estimator__min_samples_split=3, clf__estimator__n_estimators=100, vect__max_df=1.0, vect__max_features=5000, vect__ngram_range=(1, 2) \n",
      "[CV]  clf__estimator__min_samples_split=3, clf__estimator__n_estimators=100, vect__max_df=1.0, vect__max_features=5000, vect__ngram_range=(1, 2), score=0.25878698708517245, total= 4.5min\n",
      "[CV] clf__estimator__min_samples_split=3, clf__estimator__n_estimators=100, vect__max_df=1.0, vect__max_features=5000, vect__ngram_range=(1, 2) \n",
      "[CV]  clf__estimator__min_samples_split=3, clf__estimator__n_estimators=100, vect__max_df=1.0, vect__max_features=5000, vect__ngram_range=(1, 2), score=0.26156612718652933, total= 4.5min\n",
      "[CV] clf__estimator__min_samples_split=3, clf__estimator__n_estimators=100, vect__max_df=1.0, vect__max_features=5000, vect__ngram_range=(1, 2) \n",
      "[CV]  clf__estimator__min_samples_split=3, clf__estimator__n_estimators=100, vect__max_df=1.0, vect__max_features=5000, vect__ngram_range=(1, 2), score=0.26123916952754617, total= 4.5min\n",
      "[CV] clf__estimator__min_samples_split=3, clf__estimator__n_estimators=100, vect__max_df=1.0, vect__max_features=10000, vect__ngram_range=(1, 2) \n",
      "[CV]  clf__estimator__min_samples_split=3, clf__estimator__n_estimators=100, vect__max_df=1.0, vect__max_features=10000, vect__ngram_range=(1, 2), score=0.2566617623017819, total= 4.7min\n",
      "[CV] clf__estimator__min_samples_split=3, clf__estimator__n_estimators=100, vect__max_df=1.0, vect__max_features=10000, vect__ngram_range=(1, 2) \n",
      "[CV]  clf__estimator__min_samples_split=3, clf__estimator__n_estimators=100, vect__max_df=1.0, vect__max_features=10000, vect__ngram_range=(1, 2), score=0.2618930848455125, total= 4.7min\n",
      "[CV] clf__estimator__min_samples_split=3, clf__estimator__n_estimators=100, vect__max_df=1.0, vect__max_features=10000, vect__ngram_range=(1, 2) \n",
      "[CV]  clf__estimator__min_samples_split=3, clf__estimator__n_estimators=100, vect__max_df=1.0, vect__max_features=10000, vect__ngram_range=(1, 2), score=0.2553539316658493, total= 4.7min\n"
     ]
    },
    {
     "name": "stderr",
     "output_type": "stream",
     "text": [
      "[Parallel(n_jobs=1)]: Done  24 out of  24 | elapsed: 124.2min finished\n"
     ]
    },
    {
     "data": {
      "text/plain": [
       "GridSearchCV(cv=None, error_score='raise',\n",
       "       estimator=Pipeline(memory=None,\n",
       "     steps=[('vect', CountVectorizer(analyzer='word', binary=False, decode_error='strict',\n",
       "        dtype=<class 'numpy.int64'>, encoding='utf-8', input='content',\n",
       "        lowercase=True, max_df=1.0, max_features=None, min_df=1,\n",
       "        ngram_range=(1, 1), preprocessor=None, stop_words=None,\n",
       "        strip...oob_score=False, random_state=None, verbose=0,\n",
       "            warm_start=False),\n",
       "           n_jobs=1))]),\n",
       "       fit_params=None, iid=True, n_jobs=1,\n",
       "       param_grid={'vect__ngram_range': ((1, 2),), 'vect__max_df': (0.75, 1.0), 'vect__max_features': (5000, 10000), 'clf__estimator__n_estimators': [100], 'clf__estimator__min_samples_split': [2, 3]},\n",
       "       pre_dispatch='2*n_jobs', refit=True, return_train_score='warn',\n",
       "       scoring=None, verbose=5)"
      ]
     },
     "execution_count": 10,
     "metadata": {},
     "output_type": "execute_result"
    }
   ],
   "source": [
    "parameters = {'vect__ngram_range': ((1, 2),),\n",
    "              'vect__max_df': (0.75, 1.0),\n",
    "              'vect__max_features': (5000, 10000),\n",
    "              'clf__estimator__n_estimators': [100],\n",
    "              'clf__estimator__min_samples_split': [2, 3]}\n",
    "\n",
    "model = model_pipeline()\n",
    "\n",
    "cv = GridSearchCV(model, param_grid=parameters, verbose=5)\n",
    "cv.fit(X_train, Y_train)"
   ]
  },
  {
   "cell_type": "markdown",
   "metadata": {},
   "source": [
    "So based on the score, the combination of \"clf__estimator__min_samples_split=2, clf__estimator__n_estimators=100, vect__max_df=1.0, vect__max_features=5000, vect__ngram_range=(1, 2)\" works best.  \n",
    "(Note: I have tried many other parameters already, but it took very long to run grid search and has been interrupted a few times. Below is one example.)"
   ]
  },
  {
   "cell_type": "code",
   "execution_count": null,
   "metadata": {},
   "outputs": [
    {
     "name": "stdout",
     "output_type": "stream",
     "text": [
      "Fitting 3 folds for each of 32 candidates, totalling 96 fits\n",
      "[CV] clf__estimator__min_samples_split=2, clf__estimator__n_estimators=50, tfidf__use_idf=True, vect__max_df=0.75, vect__max_features=5000, vect__ngram_range=(1, 2) \n",
      "[CV]  clf__estimator__min_samples_split=2, clf__estimator__n_estimators=50, tfidf__use_idf=True, vect__max_df=0.75, vect__max_features=5000, vect__ngram_range=(1, 2), score=0.25976786006212194, total= 2.6min\n",
      "[CV] clf__estimator__min_samples_split=2, clf__estimator__n_estimators=50, tfidf__use_idf=True, vect__max_df=0.75, vect__max_features=5000, vect__ngram_range=(1, 2) \n"
     ]
    },
    {
     "name": "stderr",
     "output_type": "stream",
     "text": [
      "[Parallel(n_jobs=1)]: Done   1 out of   1 | elapsed:  2.9min remaining:    0.0s\n"
     ]
    },
    {
     "name": "stdout",
     "output_type": "stream",
     "text": [
      "[CV]  clf__estimator__min_samples_split=2, clf__estimator__n_estimators=50, tfidf__use_idf=True, vect__max_df=0.75, vect__max_features=5000, vect__ngram_range=(1, 2), score=0.26058525420957984, total= 2.6min\n",
      "[CV] clf__estimator__min_samples_split=2, clf__estimator__n_estimators=50, tfidf__use_idf=True, vect__max_df=0.75, vect__max_features=5000, vect__ngram_range=(1, 2) \n"
     ]
    },
    {
     "name": "stderr",
     "output_type": "stream",
     "text": [
      "[Parallel(n_jobs=1)]: Done   2 out of   2 | elapsed:  5.7min remaining:    0.0s\n"
     ]
    },
    {
     "name": "stdout",
     "output_type": "stream",
     "text": [
      "[CV]  clf__estimator__min_samples_split=2, clf__estimator__n_estimators=50, tfidf__use_idf=True, vect__max_df=0.75, vect__max_features=5000, vect__ngram_range=(1, 2), score=0.26140264835703775, total= 2.6min\n",
      "[CV] clf__estimator__min_samples_split=2, clf__estimator__n_estimators=50, tfidf__use_idf=True, vect__max_df=0.75, vect__max_features=10000, vect__ngram_range=(1, 2) \n"
     ]
    },
    {
     "name": "stderr",
     "output_type": "stream",
     "text": [
      "[Parallel(n_jobs=1)]: Done   3 out of   3 | elapsed:  8.6min remaining:    0.0s\n"
     ]
    },
    {
     "name": "stdout",
     "output_type": "stream",
     "text": [
      "[CV]  clf__estimator__min_samples_split=2, clf__estimator__n_estimators=50, tfidf__use_idf=True, vect__max_df=0.75, vect__max_features=10000, vect__ngram_range=(1, 2), score=0.25976786006212194, total= 2.8min\n",
      "[CV] clf__estimator__min_samples_split=2, clf__estimator__n_estimators=50, tfidf__use_idf=True, vect__max_df=0.75, vect__max_features=10000, vect__ngram_range=(1, 2) \n"
     ]
    },
    {
     "name": "stderr",
     "output_type": "stream",
     "text": [
      "[Parallel(n_jobs=1)]: Done   4 out of   4 | elapsed: 11.7min remaining:    0.0s\n"
     ]
    },
    {
     "name": "stdout",
     "output_type": "stream",
     "text": [
      "[CV]  clf__estimator__min_samples_split=2, clf__estimator__n_estimators=50, tfidf__use_idf=True, vect__max_df=0.75, vect__max_features=10000, vect__ngram_range=(1, 2), score=0.2600948177211051, total= 2.8min\n",
      "[CV] clf__estimator__min_samples_split=2, clf__estimator__n_estimators=50, tfidf__use_idf=True, vect__max_df=0.75, vect__max_features=10000, vect__ngram_range=(1, 2) \n",
      "[CV]  clf__estimator__min_samples_split=2, clf__estimator__n_estimators=50, tfidf__use_idf=True, vect__max_df=0.75, vect__max_features=10000, vect__ngram_range=(1, 2), score=0.2564982834722903, total= 2.8min\n",
      "[CV] clf__estimator__min_samples_split=2, clf__estimator__n_estimators=50, tfidf__use_idf=True, vect__max_df=1.0, vect__max_features=5000, vect__ngram_range=(1, 2) \n",
      "[CV]  clf__estimator__min_samples_split=2, clf__estimator__n_estimators=50, tfidf__use_idf=True, vect__max_df=1.0, vect__max_features=5000, vect__ngram_range=(1, 2), score=0.25143043975805135, total= 2.6min\n",
      "[CV] clf__estimator__min_samples_split=2, clf__estimator__n_estimators=50, tfidf__use_idf=True, vect__max_df=1.0, vect__max_features=5000, vect__ngram_range=(1, 2) \n",
      "[CV]  clf__estimator__min_samples_split=2, clf__estimator__n_estimators=50, tfidf__use_idf=True, vect__max_df=1.0, vect__max_features=5000, vect__ngram_range=(1, 2), score=0.26140264835703775, total= 2.7min\n",
      "[CV] clf__estimator__min_samples_split=2, clf__estimator__n_estimators=50, tfidf__use_idf=True, vect__max_df=1.0, vect__max_features=5000, vect__ngram_range=(1, 2) \n",
      "[CV]  clf__estimator__min_samples_split=2, clf__estimator__n_estimators=50, tfidf__use_idf=True, vect__max_df=1.0, vect__max_features=5000, vect__ngram_range=(1, 2), score=0.262873957822462, total= 2.7min\n",
      "[CV] clf__estimator__min_samples_split=2, clf__estimator__n_estimators=50, tfidf__use_idf=True, vect__max_df=1.0, vect__max_features=10000, vect__ngram_range=(1, 2) \n",
      "[CV]  clf__estimator__min_samples_split=2, clf__estimator__n_estimators=50, tfidf__use_idf=True, vect__max_df=1.0, vect__max_features=10000, vect__ngram_range=(1, 2), score=0.24897825731567763, total= 2.7min\n",
      "[CV] clf__estimator__min_samples_split=2, clf__estimator__n_estimators=50, tfidf__use_idf=True, vect__max_df=1.0, vect__max_features=10000, vect__ngram_range=(1, 2) \n",
      "[CV]  clf__estimator__min_samples_split=2, clf__estimator__n_estimators=50, tfidf__use_idf=True, vect__max_df=1.0, vect__max_features=10000, vect__ngram_range=(1, 2), score=0.2620565636750041, total= 2.7min\n",
      "[CV] clf__estimator__min_samples_split=2, clf__estimator__n_estimators=50, tfidf__use_idf=True, vect__max_df=1.0, vect__max_features=10000, vect__ngram_range=(1, 2) \n",
      "[CV]  clf__estimator__min_samples_split=2, clf__estimator__n_estimators=50, tfidf__use_idf=True, vect__max_df=1.0, vect__max_features=10000, vect__ngram_range=(1, 2), score=0.2581330717672061, total= 2.8min\n",
      "[CV] clf__estimator__min_samples_split=2, clf__estimator__n_estimators=50, tfidf__use_idf=False, vect__max_df=0.75, vect__max_features=5000, vect__ngram_range=(1, 2) \n",
      "[CV]  clf__estimator__min_samples_split=2, clf__estimator__n_estimators=50, tfidf__use_idf=False, vect__max_df=0.75, vect__max_features=5000, vect__ngram_range=(1, 2), score=0.2543730586888998, total= 2.5min\n",
      "[CV] clf__estimator__min_samples_split=2, clf__estimator__n_estimators=50, tfidf__use_idf=False, vect__max_df=0.75, vect__max_features=5000, vect__ngram_range=(1, 2) \n",
      "[CV]  clf__estimator__min_samples_split=2, clf__estimator__n_estimators=50, tfidf__use_idf=False, vect__max_df=0.75, vect__max_features=5000, vect__ngram_range=(1, 2), score=0.2568252411312735, total= 2.5min\n",
      "[CV] clf__estimator__min_samples_split=2, clf__estimator__n_estimators=50, tfidf__use_idf=False, vect__max_df=0.75, vect__max_features=5000, vect__ngram_range=(1, 2) \n",
      "[CV]  clf__estimator__min_samples_split=2, clf__estimator__n_estimators=50, tfidf__use_idf=False, vect__max_df=0.75, vect__max_features=5000, vect__ngram_range=(1, 2), score=0.2594409024031388, total= 2.5min\n",
      "[CV] clf__estimator__min_samples_split=2, clf__estimator__n_estimators=50, tfidf__use_idf=False, vect__max_df=0.75, vect__max_features=10000, vect__ngram_range=(1, 2) \n",
      "[CV]  clf__estimator__min_samples_split=2, clf__estimator__n_estimators=50, tfidf__use_idf=False, vect__max_df=0.75, vect__max_features=10000, vect__ngram_range=(1, 2), score=0.2545365375183914, total= 2.6min\n",
      "[CV] clf__estimator__min_samples_split=2, clf__estimator__n_estimators=50, tfidf__use_idf=False, vect__max_df=0.75, vect__max_features=10000, vect__ngram_range=(1, 2) \n",
      "[CV]  clf__estimator__min_samples_split=2, clf__estimator__n_estimators=50, tfidf__use_idf=False, vect__max_df=0.75, vect__max_features=10000, vect__ngram_range=(1, 2), score=0.26222004250449565, total= 2.7min\n",
      "[CV] clf__estimator__min_samples_split=2, clf__estimator__n_estimators=50, tfidf__use_idf=False, vect__max_df=0.75, vect__max_features=10000, vect__ngram_range=(1, 2) \n",
      "[CV]  clf__estimator__min_samples_split=2, clf__estimator__n_estimators=50, tfidf__use_idf=False, vect__max_df=0.75, vect__max_features=10000, vect__ngram_range=(1, 2), score=0.2573156776197482, total= 2.7min\n",
      "[CV] clf__estimator__min_samples_split=2, clf__estimator__n_estimators=50, tfidf__use_idf=False, vect__max_df=1.0, vect__max_features=5000, vect__ngram_range=(1, 2) \n",
      "[CV]  clf__estimator__min_samples_split=2, clf__estimator__n_estimators=50, tfidf__use_idf=False, vect__max_df=1.0, vect__max_features=5000, vect__ngram_range=(1, 2), score=0.25698871996076506, total= 2.5min\n",
      "[CV] clf__estimator__min_samples_split=2, clf__estimator__n_estimators=50, tfidf__use_idf=False, vect__max_df=1.0, vect__max_features=5000, vect__ngram_range=(1, 2) \n",
      "[CV]  clf__estimator__min_samples_split=2, clf__estimator__n_estimators=50, tfidf__use_idf=False, vect__max_df=1.0, vect__max_features=5000, vect__ngram_range=(1, 2), score=0.26385483079941147, total= 2.5min\n",
      "[CV] clf__estimator__min_samples_split=2, clf__estimator__n_estimators=50, tfidf__use_idf=False, vect__max_df=1.0, vect__max_features=5000, vect__ngram_range=(1, 2) \n",
      "[CV]  clf__estimator__min_samples_split=2, clf__estimator__n_estimators=50, tfidf__use_idf=False, vect__max_df=1.0, vect__max_features=5000, vect__ngram_range=(1, 2), score=0.26320091548144514, total= 2.5min\n",
      "[CV] clf__estimator__min_samples_split=2, clf__estimator__n_estimators=50, tfidf__use_idf=False, vect__max_df=1.0, vect__max_features=10000, vect__ngram_range=(1, 2) \n",
      "[CV]  clf__estimator__min_samples_split=2, clf__estimator__n_estimators=50, tfidf__use_idf=False, vect__max_df=1.0, vect__max_features=10000, vect__ngram_range=(1, 2), score=0.2519208762465261, total= 2.7min\n",
      "[CV] clf__estimator__min_samples_split=2, clf__estimator__n_estimators=50, tfidf__use_idf=False, vect__max_df=1.0, vect__max_features=10000, vect__ngram_range=(1, 2) \n",
      "[CV]  clf__estimator__min_samples_split=2, clf__estimator__n_estimators=50, tfidf__use_idf=False, vect__max_df=1.0, vect__max_features=10000, vect__ngram_range=(1, 2), score=0.2560078469838156, total= 2.7min\n",
      "[CV] clf__estimator__min_samples_split=2, clf__estimator__n_estimators=50, tfidf__use_idf=False, vect__max_df=1.0, vect__max_features=10000, vect__ngram_range=(1, 2) \n",
      "[CV]  clf__estimator__min_samples_split=2, clf__estimator__n_estimators=50, tfidf__use_idf=False, vect__max_df=1.0, vect__max_features=10000, vect__ngram_range=(1, 2), score=0.2600948177211051, total= 2.7min\n",
      "[CV] clf__estimator__min_samples_split=2, clf__estimator__n_estimators=100, tfidf__use_idf=True, vect__max_df=0.75, vect__max_features=5000, vect__ngram_range=(1, 2) \n",
      "[CV]  clf__estimator__min_samples_split=2, clf__estimator__n_estimators=100, tfidf__use_idf=True, vect__max_df=0.75, vect__max_features=5000, vect__ngram_range=(1, 2), score=0.25502697400686614, total= 4.9min\n",
      "[CV] clf__estimator__min_samples_split=2, clf__estimator__n_estimators=100, tfidf__use_idf=True, vect__max_df=0.75, vect__max_features=5000, vect__ngram_range=(1, 2) \n",
      "[CV]  clf__estimator__min_samples_split=2, clf__estimator__n_estimators=100, tfidf__use_idf=True, vect__max_df=0.75, vect__max_features=5000, vect__ngram_range=(1, 2), score=0.26238352133398724, total= 5.0min\n",
      "[CV] clf__estimator__min_samples_split=2, clf__estimator__n_estimators=100, tfidf__use_idf=True, vect__max_df=0.75, vect__max_features=5000, vect__ngram_range=(1, 2) \n",
      "[CV]  clf__estimator__min_samples_split=2, clf__estimator__n_estimators=100, tfidf__use_idf=True, vect__max_df=0.75, vect__max_features=5000, vect__ngram_range=(1, 2), score=0.26140264835703775, total= 5.0min\n",
      "[CV] clf__estimator__min_samples_split=2, clf__estimator__n_estimators=100, tfidf__use_idf=True, vect__max_df=0.75, vect__max_features=10000, vect__ngram_range=(1, 2) \n",
      "[CV]  clf__estimator__min_samples_split=2, clf__estimator__n_estimators=100, tfidf__use_idf=True, vect__max_df=0.75, vect__max_features=10000, vect__ngram_range=(1, 2), score=0.2564982834722903, total= 5.2min\n",
      "[CV] clf__estimator__min_samples_split=2, clf__estimator__n_estimators=100, tfidf__use_idf=True, vect__max_df=0.75, vect__max_features=10000, vect__ngram_range=(1, 2) \n",
      "[CV]  clf__estimator__min_samples_split=2, clf__estimator__n_estimators=100, tfidf__use_idf=True, vect__max_df=0.75, vect__max_features=10000, vect__ngram_range=(1, 2), score=0.26222004250449565, total= 5.2min\n",
      "[CV] clf__estimator__min_samples_split=2, clf__estimator__n_estimators=100, tfidf__use_idf=True, vect__max_df=0.75, vect__max_features=10000, vect__ngram_range=(1, 2) \n",
      "[CV]  clf__estimator__min_samples_split=2, clf__estimator__n_estimators=100, tfidf__use_idf=True, vect__max_df=0.75, vect__max_features=10000, vect__ngram_range=(1, 2), score=0.2625470001634788, total= 5.2min\n",
      "[CV] clf__estimator__min_samples_split=2, clf__estimator__n_estimators=100, tfidf__use_idf=True, vect__max_df=1.0, vect__max_features=5000, vect__ngram_range=(1, 2) \n",
      "[CV]  clf__estimator__min_samples_split=2, clf__estimator__n_estimators=100, tfidf__use_idf=True, vect__max_df=1.0, vect__max_features=5000, vect__ngram_range=(1, 2), score=0.25976786006212194, total= 5.0min\n",
      "[CV] clf__estimator__min_samples_split=2, clf__estimator__n_estimators=100, tfidf__use_idf=True, vect__max_df=1.0, vect__max_features=5000, vect__ngram_range=(1, 2) \n",
      "[CV]  clf__estimator__min_samples_split=2, clf__estimator__n_estimators=100, tfidf__use_idf=True, vect__max_df=1.0, vect__max_features=5000, vect__ngram_range=(1, 2), score=0.2625470001634788, total= 4.9min\n",
      "[CV] clf__estimator__min_samples_split=2, clf__estimator__n_estimators=100, tfidf__use_idf=True, vect__max_df=1.0, vect__max_features=5000, vect__ngram_range=(1, 2) \n",
      "[CV]  clf__estimator__min_samples_split=2, clf__estimator__n_estimators=100, tfidf__use_idf=True, vect__max_df=1.0, vect__max_features=5000, vect__ngram_range=(1, 2), score=0.26042177538008826, total= 5.0min\n",
      "[CV] clf__estimator__min_samples_split=2, clf__estimator__n_estimators=100, tfidf__use_idf=True, vect__max_df=1.0, vect__max_features=10000, vect__ngram_range=(1, 2) \n",
      "[CV]  clf__estimator__min_samples_split=2, clf__estimator__n_estimators=100, tfidf__use_idf=True, vect__max_df=1.0, vect__max_features=10000, vect__ngram_range=(1, 2), score=0.2519208762465261, total= 5.2min\n",
      "[CV] clf__estimator__min_samples_split=2, clf__estimator__n_estimators=100, tfidf__use_idf=True, vect__max_df=1.0, vect__max_features=10000, vect__ngram_range=(1, 2) \n",
      "[CV]  clf__estimator__min_samples_split=2, clf__estimator__n_estimators=100, tfidf__use_idf=True, vect__max_df=1.0, vect__max_features=10000, vect__ngram_range=(1, 2), score=0.2574791564492398, total= 5.3min\n",
      "[CV] clf__estimator__min_samples_split=2, clf__estimator__n_estimators=100, tfidf__use_idf=True, vect__max_df=1.0, vect__max_features=10000, vect__ngram_range=(1, 2) \n",
      "[CV]  clf__estimator__min_samples_split=2, clf__estimator__n_estimators=100, tfidf__use_idf=True, vect__max_df=1.0, vect__max_features=10000, vect__ngram_range=(1, 2), score=0.2576426352787314, total= 5.3min\n",
      "[CV] clf__estimator__min_samples_split=2, clf__estimator__n_estimators=100, tfidf__use_idf=False, vect__max_df=0.75, vect__max_features=5000, vect__ngram_range=(1, 2) \n",
      "[CV]  clf__estimator__min_samples_split=2, clf__estimator__n_estimators=100, tfidf__use_idf=False, vect__max_df=0.75, vect__max_features=5000, vect__ngram_range=(1, 2), score=0.2594409024031388, total= 4.6min\n",
      "[CV] clf__estimator__min_samples_split=2, clf__estimator__n_estimators=100, tfidf__use_idf=False, vect__max_df=0.75, vect__max_features=5000, vect__ngram_range=(1, 2) \n",
      "[CV]  clf__estimator__min_samples_split=2, clf__estimator__n_estimators=100, tfidf__use_idf=False, vect__max_df=0.75, vect__max_features=5000, vect__ngram_range=(1, 2), score=0.2610756906980546, total= 4.6min\n",
      "[CV] clf__estimator__min_samples_split=2, clf__estimator__n_estimators=100, tfidf__use_idf=False, vect__max_df=0.75, vect__max_features=5000, vect__ngram_range=(1, 2) \n",
      "[CV]  clf__estimator__min_samples_split=2, clf__estimator__n_estimators=100, tfidf__use_idf=False, vect__max_df=0.75, vect__max_features=5000, vect__ngram_range=(1, 2), score=0.26320091548144514, total= 4.7min\n",
      "[CV] clf__estimator__min_samples_split=2, clf__estimator__n_estimators=100, tfidf__use_idf=False, vect__max_df=0.75, vect__max_features=10000, vect__ngram_range=(1, 2) \n",
      "[CV]  clf__estimator__min_samples_split=2, clf__estimator__n_estimators=100, tfidf__use_idf=False, vect__max_df=0.75, vect__max_features=10000, vect__ngram_range=(1, 2), score=0.2594409024031388, total= 5.0min\n",
      "[CV] clf__estimator__min_samples_split=2, clf__estimator__n_estimators=100, tfidf__use_idf=False, vect__max_df=0.75, vect__max_features=10000, vect__ngram_range=(1, 2) \n",
      "[CV]  clf__estimator__min_samples_split=2, clf__estimator__n_estimators=100, tfidf__use_idf=False, vect__max_df=0.75, vect__max_features=10000, vect__ngram_range=(1, 2), score=0.26418178845839463, total= 5.0min\n",
      "[CV] clf__estimator__min_samples_split=2, clf__estimator__n_estimators=100, tfidf__use_idf=False, vect__max_df=0.75, vect__max_features=10000, vect__ngram_range=(1, 2) \n",
      "[CV]  clf__estimator__min_samples_split=2, clf__estimator__n_estimators=100, tfidf__use_idf=False, vect__max_df=0.75, vect__max_features=10000, vect__ngram_range=(1, 2), score=0.26401830962890305, total= 5.1min\n",
      "[CV] clf__estimator__min_samples_split=2, clf__estimator__n_estimators=100, tfidf__use_idf=False, vect__max_df=1.0, vect__max_features=5000, vect__ngram_range=(1, 2) \n",
      "[CV]  clf__estimator__min_samples_split=2, clf__estimator__n_estimators=100, tfidf__use_idf=False, vect__max_df=1.0, vect__max_features=5000, vect__ngram_range=(1, 2), score=0.2564982834722903, total= 4.7min\n",
      "[CV] clf__estimator__min_samples_split=2, clf__estimator__n_estimators=100, tfidf__use_idf=False, vect__max_df=1.0, vect__max_features=5000, vect__ngram_range=(1, 2) \n",
      "[CV]  clf__estimator__min_samples_split=2, clf__estimator__n_estimators=100, tfidf__use_idf=False, vect__max_df=1.0, vect__max_features=5000, vect__ngram_range=(1, 2), score=0.26499918260585253, total= 4.7min\n",
      "[CV] clf__estimator__min_samples_split=2, clf__estimator__n_estimators=100, tfidf__use_idf=False, vect__max_df=1.0, vect__max_features=5000, vect__ngram_range=(1, 2) \n",
      "[CV]  clf__estimator__min_samples_split=2, clf__estimator__n_estimators=100, tfidf__use_idf=False, vect__max_df=1.0, vect__max_features=5000, vect__ngram_range=(1, 2), score=0.26483570377636095, total= 4.7min\n",
      "[CV] clf__estimator__min_samples_split=2, clf__estimator__n_estimators=100, tfidf__use_idf=False, vect__max_df=1.0, vect__max_features=10000, vect__ngram_range=(1, 2) \n",
      "[CV]  clf__estimator__min_samples_split=2, clf__estimator__n_estimators=100, tfidf__use_idf=False, vect__max_df=1.0, vect__max_features=10000, vect__ngram_range=(1, 2), score=0.2543730586888998, total= 5.0min\n",
      "[CV] clf__estimator__min_samples_split=2, clf__estimator__n_estimators=100, tfidf__use_idf=False, vect__max_df=1.0, vect__max_features=10000, vect__ngram_range=(1, 2) \n",
      "[CV]  clf__estimator__min_samples_split=2, clf__estimator__n_estimators=100, tfidf__use_idf=False, vect__max_df=1.0, vect__max_features=10000, vect__ngram_range=(1, 2), score=0.2651626614353441, total= 5.0min\n",
      "[CV] clf__estimator__min_samples_split=2, clf__estimator__n_estimators=100, tfidf__use_idf=False, vect__max_df=1.0, vect__max_features=10000, vect__ngram_range=(1, 2) \n",
      "[CV]  clf__estimator__min_samples_split=2, clf__estimator__n_estimators=100, tfidf__use_idf=False, vect__max_df=1.0, vect__max_features=10000, vect__ngram_range=(1, 2), score=0.2610756906980546, total= 5.0min\n",
      "[CV] clf__estimator__min_samples_split=3, clf__estimator__n_estimators=50, tfidf__use_idf=True, vect__max_df=0.75, vect__max_features=5000, vect__ngram_range=(1, 2) \n",
      "[CV]  clf__estimator__min_samples_split=3, clf__estimator__n_estimators=50, tfidf__use_idf=True, vect__max_df=0.75, vect__max_features=5000, vect__ngram_range=(1, 2), score=0.25126696092855977, total= 2.5min\n",
      "[CV] clf__estimator__min_samples_split=3, clf__estimator__n_estimators=50, tfidf__use_idf=True, vect__max_df=0.75, vect__max_features=5000, vect__ngram_range=(1, 2) \n",
      "[CV]  clf__estimator__min_samples_split=3, clf__estimator__n_estimators=50, tfidf__use_idf=True, vect__max_df=0.75, vect__max_features=5000, vect__ngram_range=(1, 2), score=0.2533921857119503, total= 2.4min\n",
      "[CV] clf__estimator__min_samples_split=3, clf__estimator__n_estimators=50, tfidf__use_idf=True, vect__max_df=0.75, vect__max_features=5000, vect__ngram_range=(1, 2) \n",
      "[CV]  clf__estimator__min_samples_split=3, clf__estimator__n_estimators=50, tfidf__use_idf=True, vect__max_df=0.75, vect__max_features=5000, vect__ngram_range=(1, 2), score=0.26156612718652933, total= 2.5min\n",
      "[CV] clf__estimator__min_samples_split=3, clf__estimator__n_estimators=50, tfidf__use_idf=True, vect__max_df=0.75, vect__max_features=10000, vect__ngram_range=(1, 2) \n",
      "[CV]  clf__estimator__min_samples_split=3, clf__estimator__n_estimators=50, tfidf__use_idf=True, vect__max_df=0.75, vect__max_features=10000, vect__ngram_range=(1, 2), score=0.2525747915644924, total= 2.5min\n",
      "[CV] clf__estimator__min_samples_split=3, clf__estimator__n_estimators=50, tfidf__use_idf=True, vect__max_df=0.75, vect__max_features=10000, vect__ngram_range=(1, 2) \n",
      "[CV]  clf__estimator__min_samples_split=3, clf__estimator__n_estimators=50, tfidf__use_idf=True, vect__max_df=0.75, vect__max_features=10000, vect__ngram_range=(1, 2), score=0.25715219879025664, total= 2.6min\n",
      "[CV] clf__estimator__min_samples_split=3, clf__estimator__n_estimators=50, tfidf__use_idf=True, vect__max_df=0.75, vect__max_features=10000, vect__ngram_range=(1, 2) \n",
      "[CV]  clf__estimator__min_samples_split=3, clf__estimator__n_estimators=50, tfidf__use_idf=True, vect__max_df=0.75, vect__max_features=10000, vect__ngram_range=(1, 2), score=0.2582965505966977, total= 2.6min\n",
      "[CV] clf__estimator__min_samples_split=3, clf__estimator__n_estimators=50, tfidf__use_idf=True, vect__max_df=1.0, vect__max_features=5000, vect__ngram_range=(1, 2) \n",
      "[CV]  clf__estimator__min_samples_split=3, clf__estimator__n_estimators=50, tfidf__use_idf=True, vect__max_df=1.0, vect__max_features=5000, vect__ngram_range=(1, 2), score=0.2501226091221187, total= 2.4min\n",
      "[CV] clf__estimator__min_samples_split=3, clf__estimator__n_estimators=50, tfidf__use_idf=True, vect__max_df=1.0, vect__max_features=5000, vect__ngram_range=(1, 2) \n",
      "[CV]  clf__estimator__min_samples_split=3, clf__estimator__n_estimators=50, tfidf__use_idf=True, vect__max_df=1.0, vect__max_features=5000, vect__ngram_range=(1, 2), score=0.2591139447441556, total= 2.4min\n",
      "[CV] clf__estimator__min_samples_split=3, clf__estimator__n_estimators=50, tfidf__use_idf=True, vect__max_df=1.0, vect__max_features=5000, vect__ngram_range=(1, 2) \n",
      "[CV]  clf__estimator__min_samples_split=3, clf__estimator__n_estimators=50, tfidf__use_idf=True, vect__max_df=1.0, vect__max_features=5000, vect__ngram_range=(1, 2), score=0.2517573974170345, total= 2.5min\n",
      "[CV] clf__estimator__min_samples_split=3, clf__estimator__n_estimators=50, tfidf__use_idf=True, vect__max_df=1.0, vect__max_features=10000, vect__ngram_range=(1, 2) \n",
      "[CV]  clf__estimator__min_samples_split=3, clf__estimator__n_estimators=50, tfidf__use_idf=True, vect__max_df=1.0, vect__max_features=10000, vect__ngram_range=(1, 2), score=0.24816086316821973, total= 2.6min\n",
      "[CV] clf__estimator__min_samples_split=3, clf__estimator__n_estimators=50, tfidf__use_idf=True, vect__max_df=1.0, vect__max_features=10000, vect__ngram_range=(1, 2) \n",
      "[CV]  clf__estimator__min_samples_split=3, clf__estimator__n_estimators=50, tfidf__use_idf=True, vect__max_df=1.0, vect__max_features=10000, vect__ngram_range=(1, 2), score=0.25633480464279873, total= 2.5min\n",
      "[CV] clf__estimator__min_samples_split=3, clf__estimator__n_estimators=50, tfidf__use_idf=True, vect__max_df=1.0, vect__max_features=10000, vect__ngram_range=(1, 2) \n",
      "[CV]  clf__estimator__min_samples_split=3, clf__estimator__n_estimators=50, tfidf__use_idf=True, vect__max_df=1.0, vect__max_features=10000, vect__ngram_range=(1, 2), score=0.25895046591466403, total= 2.6min\n",
      "[CV] clf__estimator__min_samples_split=3, clf__estimator__n_estimators=50, tfidf__use_idf=False, vect__max_df=0.75, vect__max_features=5000, vect__ngram_range=(1, 2) \n",
      "[CV]  clf__estimator__min_samples_split=3, clf__estimator__n_estimators=50, tfidf__use_idf=False, vect__max_df=0.75, vect__max_features=5000, vect__ngram_range=(1, 2), score=0.25241131273500084, total= 2.3min\n",
      "[CV] clf__estimator__min_samples_split=3, clf__estimator__n_estimators=50, tfidf__use_idf=False, vect__max_df=0.75, vect__max_features=5000, vect__ngram_range=(1, 2) \n",
      "[CV]  clf__estimator__min_samples_split=3, clf__estimator__n_estimators=50, tfidf__use_idf=False, vect__max_df=0.75, vect__max_features=5000, vect__ngram_range=(1, 2), score=0.25862350825568087, total= 2.3min\n",
      "[CV] clf__estimator__min_samples_split=3, clf__estimator__n_estimators=50, tfidf__use_idf=False, vect__max_df=0.75, vect__max_features=5000, vect__ngram_range=(1, 2) \n",
      "[CV]  clf__estimator__min_samples_split=3, clf__estimator__n_estimators=50, tfidf__use_idf=False, vect__max_df=0.75, vect__max_features=5000, vect__ngram_range=(1, 2), score=0.2525747915644924, total= 2.3min\n",
      "[CV] clf__estimator__min_samples_split=3, clf__estimator__n_estimators=50, tfidf__use_idf=False, vect__max_df=0.75, vect__max_features=10000, vect__ngram_range=(1, 2) \n",
      "[CV]  clf__estimator__min_samples_split=3, clf__estimator__n_estimators=50, tfidf__use_idf=False, vect__max_df=0.75, vect__max_features=10000, vect__ngram_range=(1, 2), score=0.24963217263364396, total= 2.4min\n",
      "[CV] clf__estimator__min_samples_split=3, clf__estimator__n_estimators=50, tfidf__use_idf=False, vect__max_df=0.75, vect__max_features=10000, vect__ngram_range=(1, 2) \n",
      "[CV]  clf__estimator__min_samples_split=3, clf__estimator__n_estimators=50, tfidf__use_idf=False, vect__max_df=0.75, vect__max_features=10000, vect__ngram_range=(1, 2), score=0.25584436815432404, total= 2.4min\n",
      "[CV] clf__estimator__min_samples_split=3, clf__estimator__n_estimators=50, tfidf__use_idf=False, vect__max_df=0.75, vect__max_features=10000, vect__ngram_range=(1, 2) \n",
      "[CV]  clf__estimator__min_samples_split=3, clf__estimator__n_estimators=50, tfidf__use_idf=False, vect__max_df=0.75, vect__max_features=10000, vect__ngram_range=(1, 2), score=0.25633480464279873, total= 2.5min\n",
      "[CV] clf__estimator__min_samples_split=3, clf__estimator__n_estimators=50, tfidf__use_idf=False, vect__max_df=1.0, vect__max_features=5000, vect__ngram_range=(1, 2) \n",
      "[CV]  clf__estimator__min_samples_split=3, clf__estimator__n_estimators=50, tfidf__use_idf=False, vect__max_df=1.0, vect__max_features=5000, vect__ngram_range=(1, 2), score=0.2517573974170345, total= 2.3min\n",
      "[CV] clf__estimator__min_samples_split=3, clf__estimator__n_estimators=50, tfidf__use_idf=False, vect__max_df=1.0, vect__max_features=5000, vect__ngram_range=(1, 2) \n",
      "[CV]  clf__estimator__min_samples_split=3, clf__estimator__n_estimators=50, tfidf__use_idf=False, vect__max_df=1.0, vect__max_features=5000, vect__ngram_range=(1, 2), score=0.2509400032695766, total= 2.3min\n",
      "[CV] clf__estimator__min_samples_split=3, clf__estimator__n_estimators=50, tfidf__use_idf=False, vect__max_df=1.0, vect__max_features=5000, vect__ngram_range=(1, 2) \n",
      "[CV]  clf__estimator__min_samples_split=3, clf__estimator__n_estimators=50, tfidf__use_idf=False, vect__max_df=1.0, vect__max_features=5000, vect__ngram_range=(1, 2), score=0.26483570377636095, total= 2.3min\n",
      "[CV] clf__estimator__min_samples_split=3, clf__estimator__n_estimators=50, tfidf__use_idf=False, vect__max_df=1.0, vect__max_features=10000, vect__ngram_range=(1, 2) \n",
      "[CV]  clf__estimator__min_samples_split=3, clf__estimator__n_estimators=50, tfidf__use_idf=False, vect__max_df=1.0, vect__max_features=10000, vect__ngram_range=(1, 2), score=0.25241131273500084, total= 2.4min\n",
      "[CV] clf__estimator__min_samples_split=3, clf__estimator__n_estimators=50, tfidf__use_idf=False, vect__max_df=1.0, vect__max_features=10000, vect__ngram_range=(1, 2) \n",
      "[CV]  clf__estimator__min_samples_split=3, clf__estimator__n_estimators=50, tfidf__use_idf=False, vect__max_df=1.0, vect__max_features=10000, vect__ngram_range=(1, 2), score=0.2568252411312735, total= 2.5min\n",
      "[CV] clf__estimator__min_samples_split=3, clf__estimator__n_estimators=50, tfidf__use_idf=False, vect__max_df=1.0, vect__max_features=10000, vect__ngram_range=(1, 2) \n",
      "[CV]  clf__estimator__min_samples_split=3, clf__estimator__n_estimators=50, tfidf__use_idf=False, vect__max_df=1.0, vect__max_features=10000, vect__ngram_range=(1, 2), score=0.2599313388916135, total= 2.5min\n",
      "[CV] clf__estimator__min_samples_split=3, clf__estimator__n_estimators=100, tfidf__use_idf=True, vect__max_df=0.75, vect__max_features=5000, vect__ngram_range=(1, 2) \n",
      "[CV]  clf__estimator__min_samples_split=3, clf__estimator__n_estimators=100, tfidf__use_idf=True, vect__max_df=0.75, vect__max_features=5000, vect__ngram_range=(1, 2), score=0.2537191433709335, total= 4.7min\n",
      "[CV] clf__estimator__min_samples_split=3, clf__estimator__n_estimators=100, tfidf__use_idf=True, vect__max_df=0.75, vect__max_features=5000, vect__ngram_range=(1, 2) \n",
      "[CV]  clf__estimator__min_samples_split=3, clf__estimator__n_estimators=100, tfidf__use_idf=True, vect__max_df=0.75, vect__max_features=5000, vect__ngram_range=(1, 2), score=0.25698871996076506, total= 4.8min\n",
      "[CV] clf__estimator__min_samples_split=3, clf__estimator__n_estimators=100, tfidf__use_idf=True, vect__max_df=0.75, vect__max_features=5000, vect__ngram_range=(1, 2) \n",
      "[CV]  clf__estimator__min_samples_split=3, clf__estimator__n_estimators=100, tfidf__use_idf=True, vect__max_df=0.75, vect__max_features=5000, vect__ngram_range=(1, 2), score=0.25715219879025664, total= 4.7min\n",
      "[CV] clf__estimator__min_samples_split=3, clf__estimator__n_estimators=100, tfidf__use_idf=True, vect__max_df=0.75, vect__max_features=10000, vect__ngram_range=(1, 2) \n",
      "[CV]  clf__estimator__min_samples_split=3, clf__estimator__n_estimators=100, tfidf__use_idf=True, vect__max_df=0.75, vect__max_features=10000, vect__ngram_range=(1, 2), score=0.25633480464279873, total= 4.8min\n",
      "[CV] clf__estimator__min_samples_split=3, clf__estimator__n_estimators=100, tfidf__use_idf=True, vect__max_df=0.75, vect__max_features=10000, vect__ngram_range=(1, 2) \n",
      "[CV]  clf__estimator__min_samples_split=3, clf__estimator__n_estimators=100, tfidf__use_idf=True, vect__max_df=0.75, vect__max_features=10000, vect__ngram_range=(1, 2), score=0.26123916952754617, total= 4.8min\n",
      "[CV] clf__estimator__min_samples_split=3, clf__estimator__n_estimators=100, tfidf__use_idf=True, vect__max_df=0.75, vect__max_features=10000, vect__ngram_range=(1, 2) \n",
      "[CV]  clf__estimator__min_samples_split=3, clf__estimator__n_estimators=100, tfidf__use_idf=True, vect__max_df=0.75, vect__max_features=10000, vect__ngram_range=(1, 2), score=0.2582965505966977, total= 4.9min\n",
      "[CV] clf__estimator__min_samples_split=3, clf__estimator__n_estimators=100, tfidf__use_idf=True, vect__max_df=1.0, vect__max_features=5000, vect__ngram_range=(1, 2) \n",
      "[CV]  clf__estimator__min_samples_split=3, clf__estimator__n_estimators=100, tfidf__use_idf=True, vect__max_df=1.0, vect__max_features=5000, vect__ngram_range=(1, 2), score=0.25698871996076506, total= 4.7min\n",
      "[CV] clf__estimator__min_samples_split=3, clf__estimator__n_estimators=100, tfidf__use_idf=True, vect__max_df=1.0, vect__max_features=5000, vect__ngram_range=(1, 2) \n",
      "[CV]  clf__estimator__min_samples_split=3, clf__estimator__n_estimators=100, tfidf__use_idf=True, vect__max_df=1.0, vect__max_features=5000, vect__ngram_range=(1, 2), score=0.2661435344122936, total= 4.7min\n",
      "[CV] clf__estimator__min_samples_split=3, clf__estimator__n_estimators=100, tfidf__use_idf=True, vect__max_df=1.0, vect__max_features=5000, vect__ngram_range=(1, 2) \n",
      "[CV]  clf__estimator__min_samples_split=3, clf__estimator__n_estimators=100, tfidf__use_idf=True, vect__max_df=1.0, vect__max_features=5000, vect__ngram_range=(1, 2), score=0.2618930848455125, total= 4.7min\n",
      "[CV] clf__estimator__min_samples_split=3, clf__estimator__n_estimators=100, tfidf__use_idf=True, vect__max_df=1.0, vect__max_features=10000, vect__ngram_range=(1, 2) \n",
      "[CV]  clf__estimator__min_samples_split=3, clf__estimator__n_estimators=100, tfidf__use_idf=True, vect__max_df=1.0, vect__max_features=10000, vect__ngram_range=(1, 2), score=0.2568252411312735, total= 4.9min\n",
      "[CV] clf__estimator__min_samples_split=3, clf__estimator__n_estimators=100, tfidf__use_idf=True, vect__max_df=1.0, vect__max_features=10000, vect__ngram_range=(1, 2) \n",
      "[CV]  clf__estimator__min_samples_split=3, clf__estimator__n_estimators=100, tfidf__use_idf=True, vect__max_df=1.0, vect__max_features=10000, vect__ngram_range=(1, 2), score=0.2560078469838156, total= 4.9min\n",
      "[CV] clf__estimator__min_samples_split=3, clf__estimator__n_estimators=100, tfidf__use_idf=True, vect__max_df=1.0, vect__max_features=10000, vect__ngram_range=(1, 2) \n",
      "[CV]  clf__estimator__min_samples_split=3, clf__estimator__n_estimators=100, tfidf__use_idf=True, vect__max_df=1.0, vect__max_features=10000, vect__ngram_range=(1, 2), score=0.2591139447441556, total= 4.9min\n",
      "[CV] clf__estimator__min_samples_split=3, clf__estimator__n_estimators=100, tfidf__use_idf=False, vect__max_df=0.75, vect__max_features=5000, vect__ngram_range=(1, 2) \n",
      "[CV]  clf__estimator__min_samples_split=3, clf__estimator__n_estimators=100, tfidf__use_idf=False, vect__max_df=0.75, vect__max_features=5000, vect__ngram_range=(1, 2), score=0.2582965505966977, total= 4.4min\n",
      "[CV] clf__estimator__min_samples_split=3, clf__estimator__n_estimators=100, tfidf__use_idf=False, vect__max_df=0.75, vect__max_features=5000, vect__ngram_range=(1, 2) \n",
      "[CV]  clf__estimator__min_samples_split=3, clf__estimator__n_estimators=100, tfidf__use_idf=False, vect__max_df=0.75, vect__max_features=5000, vect__ngram_range=(1, 2), score=0.26042177538008826, total= 4.4min\n",
      "[CV] clf__estimator__min_samples_split=3, clf__estimator__n_estimators=100, tfidf__use_idf=False, vect__max_df=0.75, vect__max_features=5000, vect__ngram_range=(1, 2) \n",
      "[CV]  clf__estimator__min_samples_split=3, clf__estimator__n_estimators=100, tfidf__use_idf=False, vect__max_df=0.75, vect__max_features=5000, vect__ngram_range=(1, 2), score=0.26303743665195356, total= 4.4min\n",
      "[CV] clf__estimator__min_samples_split=3, clf__estimator__n_estimators=100, tfidf__use_idf=False, vect__max_df=0.75, vect__max_features=10000, vect__ngram_range=(1, 2) \n",
      "[CV]  clf__estimator__min_samples_split=3, clf__estimator__n_estimators=100, tfidf__use_idf=False, vect__max_df=0.75, vect__max_features=10000, vect__ngram_range=(1, 2), score=0.2533921857119503, total= 4.6min\n",
      "[CV] clf__estimator__min_samples_split=3, clf__estimator__n_estimators=100, tfidf__use_idf=False, vect__max_df=0.75, vect__max_features=10000, vect__ngram_range=(1, 2) \n",
      "[CV]  clf__estimator__min_samples_split=3, clf__estimator__n_estimators=100, tfidf__use_idf=False, vect__max_df=0.75, vect__max_features=10000, vect__ngram_range=(1, 2), score=0.25878698708517245, total= 4.7min\n",
      "[CV] clf__estimator__min_samples_split=3, clf__estimator__n_estimators=100, tfidf__use_idf=False, vect__max_df=0.75, vect__max_features=10000, vect__ngram_range=(1, 2) \n",
      "[CV]  clf__estimator__min_samples_split=3, clf__estimator__n_estimators=100, tfidf__use_idf=False, vect__max_df=0.75, vect__max_features=10000, vect__ngram_range=(1, 2), score=0.2610756906980546, total= 4.7min\n",
      "[CV] clf__estimator__min_samples_split=3, clf__estimator__n_estimators=100, tfidf__use_idf=False, vect__max_df=1.0, vect__max_features=5000, vect__ngram_range=(1, 2) \n",
      "[CV]  clf__estimator__min_samples_split=3, clf__estimator__n_estimators=100, tfidf__use_idf=False, vect__max_df=1.0, vect__max_features=5000, vect__ngram_range=(1, 2), score=0.25322870688245874, total= 4.4min\n",
      "[CV] clf__estimator__min_samples_split=3, clf__estimator__n_estimators=100, tfidf__use_idf=False, vect__max_df=1.0, vect__max_features=5000, vect__ngram_range=(1, 2) \n",
      "[CV]  clf__estimator__min_samples_split=3, clf__estimator__n_estimators=100, tfidf__use_idf=False, vect__max_df=1.0, vect__max_features=5000, vect__ngram_range=(1, 2), score=0.2671244073892431, total= 4.4min\n",
      "[CV] clf__estimator__min_samples_split=3, clf__estimator__n_estimators=100, tfidf__use_idf=False, vect__max_df=1.0, vect__max_features=5000, vect__ngram_range=(1, 2) \n"
     ]
    }
   ],
   "source": [
    "# cell run on 01/05/2021\n",
    "parameters = {'vect__ngram_range': ((1, 2),),\n",
    "              'vect__max_df': (0.75, 1.0),\n",
    "              'vect__max_features': (5000, 10000),\n",
    "              'tfidf__use_idf': (True, False),\n",
    "              'clf__estimator__n_estimators': [50, 100],\n",
    "              'clf__estimator__min_samples_split': [2, 3]}\n",
    "\n",
    "#parameters_grid = {'classifier__estimator__n_estimators': [10, 20, 40]}\n",
    "model = model_pipeline()\n",
    "\n",
    "cv = GridSearchCV(model, param_grid=parameters, verbose=5)\n",
    "cv.fit(X_train, Y_train)"
   ]
  },
  {
   "cell_type": "code",
   "execution_count": 11,
   "metadata": {},
   "outputs": [],
   "source": [
    "Y_pred_2 = cv.predict(X_test)"
   ]
  },
  {
   "cell_type": "markdown",
   "metadata": {},
   "source": [
    "### 7. Test your model\n",
    "Show the accuracy, precision, and recall of the tuned model.  \n",
    "\n",
    "Since this project focuses on code quality, process, and  pipelines, there is no minimum performance metric needed to pass. However, make sure to fine tune your models for accuracy, precision and recall to make your project stand out - especially for your portfolio!"
   ]
  },
  {
   "cell_type": "code",
   "execution_count": 12,
   "metadata": {
    "scrolled": true
   },
   "outputs": [
    {
     "name": "stdout",
     "output_type": "stream",
     "text": [
      "                        precision    recall  f1-score   support\n",
      "\n",
      "               related       0.81      0.96      0.88      5934\n",
      "               request       0.85      0.49      0.62      1332\n",
      "                 offer       0.00      0.00      0.00        36\n",
      "           aid_related       0.75      0.64      0.69      3219\n",
      "          medical_help       0.72      0.11      0.19       638\n",
      "      medical_products       0.78      0.17      0.28       418\n",
      "     search_and_rescue       0.63      0.06      0.11       192\n",
      "              security       0.00      0.00      0.00       144\n",
      "              military       0.42      0.06      0.11       245\n",
      "           child_alone       0.00      0.00      0.00         0\n",
      "                 water       0.84      0.54      0.66       500\n",
      "                  food       0.83      0.70      0.76       878\n",
      "               shelter       0.79      0.48      0.60       705\n",
      "              clothing       0.73      0.14      0.23       115\n",
      "                 money       0.58      0.04      0.08       170\n",
      "        missing_people       1.00      0.05      0.10        92\n",
      "              refugees       0.66      0.07      0.13       260\n",
      "                 death       0.84      0.35      0.49       366\n",
      "             other_aid       0.57      0.04      0.08      1033\n",
      "infrastructure_related       0.00      0.00      0.00       505\n",
      "             transport       0.67      0.11      0.19       362\n",
      "             buildings       0.75      0.14      0.23       392\n",
      "           electricity       0.81      0.08      0.14       168\n",
      "                 tools       0.00      0.00      0.00        48\n",
      "             hospitals       0.00      0.00      0.00        78\n",
      "                 shops       0.00      0.00      0.00        28\n",
      "           aid_centers       0.00      0.00      0.00       103\n",
      "  other_infrastructure       0.00      0.00      0.00       341\n",
      "       weather_related       0.84      0.71      0.77      2163\n",
      "                floods       0.89      0.52      0.66       623\n",
      "                 storm       0.75      0.64      0.69       738\n",
      "                  fire       1.00      0.05      0.09        83\n",
      "            earthquake       0.88      0.78      0.83       702\n",
      "                  cold       0.70      0.09      0.16       171\n",
      "         other_weather       0.88      0.05      0.10       415\n",
      "         direct_report       0.81      0.40      0.54      1544\n",
      "\n",
      "           avg / total       0.74      0.55      0.59     24741\n",
      "\n"
     ]
    },
    {
     "name": "stderr",
     "output_type": "stream",
     "text": [
      "/opt/conda/lib/python3.6/site-packages/sklearn/metrics/classification.py:1135: UndefinedMetricWarning: Precision and F-score are ill-defined and being set to 0.0 in labels with no predicted samples.\n",
      "  'precision', 'predicted', average, warn_for)\n",
      "/opt/conda/lib/python3.6/site-packages/sklearn/metrics/classification.py:1137: UndefinedMetricWarning: Recall and F-score are ill-defined and being set to 0.0 in labels with no true samples.\n",
      "  'recall', 'true', average, warn_for)\n"
     ]
    }
   ],
   "source": [
    "print(classification_report(Y_test.values, Y_pred_2, target_names=Y.columns.values))"
   ]
  },
  {
   "cell_type": "markdown",
   "metadata": {},
   "source": [
    "The \"recall\" score has improved from 0.44 to 0.55 (and therefore f1-score has improved from 0.50 to 0.59). If I have enough time, I would do more grid search and keep improving the model."
   ]
  },
  {
   "cell_type": "markdown",
   "metadata": {},
   "source": [
    "### 8. Try improving your model further. Here are a few ideas:\n",
    "* try other machine learning algorithms\n",
    "* add other features besides the TF-IDF"
   ]
  },
  {
   "cell_type": "markdown",
   "metadata": {},
   "source": [
    "So here I try to replace RandomForest with SVC:"
   ]
  },
  {
   "cell_type": "code",
   "execution_count": 13,
   "metadata": {},
   "outputs": [],
   "source": [
    "from sklearn.svm import SVC"
   ]
  },
  {
   "cell_type": "code",
   "execution_count": 19,
   "metadata": {},
   "outputs": [],
   "source": [
    "def model2_pipeline():\n",
    "    svc = SVC(verbose=10)\n",
    "    clf = MultiOutputClassifier(svc)\n",
    "    pipeline = Pipeline([('vect', CountVectorizer(tokenizer=tokenize, ngram_range=(1,2), max_df=1.0, max_features=5000)),\n",
    "                     ('tfidf', TfidfTransformer()),\n",
    "                     ('clf', clf)\n",
    "                    ])\n",
    "    return pipeline"
   ]
  },
  {
   "cell_type": "markdown",
   "metadata": {},
   "source": [
    "There was an error message when I use this new model: because \"child_alone\" has only one value (all rows are assigned \"0\" in \"child_alone\"), SVC does not work. So I dropped the \"child_alone\" column."
   ]
  },
  {
   "cell_type": "code",
   "execution_count": 28,
   "metadata": {},
   "outputs": [],
   "source": [
    "Y_train_temp = Y_train.drop(columns=['child_alone'])"
   ]
  },
  {
   "cell_type": "code",
   "execution_count": 31,
   "metadata": {},
   "outputs": [],
   "source": [
    "Y_test_temp = Y_test.drop(columns=['child_alone'])"
   ]
  },
  {
   "cell_type": "code",
   "execution_count": 33,
   "metadata": {},
   "outputs": [
    {
     "name": "stdout",
     "output_type": "stream",
     "text": [
      "[LibSVM][LibSVM][LibSVM][LibSVM][LibSVM][LibSVM][LibSVM][LibSVM][LibSVM][LibSVM][LibSVM][LibSVM][LibSVM][LibSVM][LibSVM][LibSVM][LibSVM][LibSVM][LibSVM][LibSVM][LibSVM][LibSVM][LibSVM][LibSVM][LibSVM][LibSVM][LibSVM][LibSVM][LibSVM][LibSVM][LibSVM][LibSVM][LibSVM][LibSVM][LibSVM]"
     ]
    },
    {
     "data": {
      "text/plain": [
       "Pipeline(memory=None,\n",
       "     steps=[('vect', CountVectorizer(analyzer='word', binary=False, decode_error='strict',\n",
       "        dtype=<class 'numpy.int64'>, encoding='utf-8', input='content',\n",
       "        lowercase=True, max_df=1.0, max_features=5000, min_df=1,\n",
       "        ngram_range=(1, 2), preprocessor=None, stop_words=None,\n",
       "        strip...obability=False, random_state=None, shrinking=True,\n",
       "  tol=0.001, verbose=10),\n",
       "           n_jobs=1))])"
      ]
     },
     "execution_count": 33,
     "metadata": {},
     "output_type": "execute_result"
    }
   ],
   "source": [
    "model2 = model2_pipeline()\n",
    "model2.fit(X_train, Y_train_temp)"
   ]
  },
  {
   "cell_type": "code",
   "execution_count": 34,
   "metadata": {},
   "outputs": [],
   "source": [
    "# predict the test set\n",
    "Y_pred_model2 = model2.predict(X_test)"
   ]
  },
  {
   "cell_type": "code",
   "execution_count": 35,
   "metadata": {
    "scrolled": true
   },
   "outputs": [
    {
     "name": "stdout",
     "output_type": "stream",
     "text": [
      "                        precision    recall  f1-score   support\n",
      "\n",
      "               related       0.75      1.00      0.86      5934\n",
      "               request       0.00      0.00      0.00      1332\n",
      "                 offer       0.00      0.00      0.00        36\n",
      "           aid_related       0.00      0.00      0.00      3219\n",
      "          medical_help       0.00      0.00      0.00       638\n",
      "      medical_products       0.00      0.00      0.00       418\n",
      "     search_and_rescue       0.00      0.00      0.00       192\n",
      "              security       0.00      0.00      0.00       144\n",
      "              military       0.00      0.00      0.00       245\n",
      "                 water       0.00      0.00      0.00       500\n",
      "                  food       0.00      0.00      0.00       878\n",
      "               shelter       0.00      0.00      0.00       705\n",
      "              clothing       0.00      0.00      0.00       115\n",
      "                 money       0.00      0.00      0.00       170\n",
      "        missing_people       0.00      0.00      0.00        92\n",
      "              refugees       0.00      0.00      0.00       260\n",
      "                 death       0.00      0.00      0.00       366\n",
      "             other_aid       0.00      0.00      0.00      1033\n",
      "infrastructure_related       0.00      0.00      0.00       505\n",
      "             transport       0.00      0.00      0.00       362\n",
      "             buildings       0.00      0.00      0.00       392\n",
      "           electricity       0.00      0.00      0.00       168\n",
      "                 tools       0.00      0.00      0.00        48\n",
      "             hospitals       0.00      0.00      0.00        78\n",
      "                 shops       0.00      0.00      0.00        28\n",
      "           aid_centers       0.00      0.00      0.00       103\n",
      "  other_infrastructure       0.00      0.00      0.00       341\n",
      "       weather_related       0.00      0.00      0.00      2163\n",
      "                floods       0.00      0.00      0.00       623\n",
      "                 storm       0.00      0.00      0.00       738\n",
      "                  fire       0.00      0.00      0.00        83\n",
      "            earthquake       0.00      0.00      0.00       702\n",
      "                  cold       0.00      0.00      0.00       171\n",
      "         other_weather       0.00      0.00      0.00       415\n",
      "         direct_report       0.00      0.00      0.00      1544\n",
      "\n",
      "           avg / total       0.18      0.24      0.21     24741\n",
      "\n"
     ]
    },
    {
     "name": "stderr",
     "output_type": "stream",
     "text": [
      "/opt/conda/lib/python3.6/site-packages/sklearn/metrics/classification.py:1135: UndefinedMetricWarning: Precision and F-score are ill-defined and being set to 0.0 in labels with no predicted samples.\n",
      "  'precision', 'predicted', average, warn_for)\n"
     ]
    }
   ],
   "source": [
    "print(classification_report(Y_test_temp.values, Y_pred_model2, target_names=Y_test_temp.columns.values))"
   ]
  },
  {
   "cell_type": "markdown",
   "metadata": {},
   "source": [
    "It seems that SVC does not work very well in this case (or maybe I shall do more grid search and find better parameters)."
   ]
  },
  {
   "cell_type": "markdown",
   "metadata": {},
   "source": [
    "### 9. Export your model as a pickle file"
   ]
  },
  {
   "cell_type": "code",
   "execution_count": 38,
   "metadata": {},
   "outputs": [],
   "source": [
    "pickle.dump(cv, open('model.pkl', 'wb'))"
   ]
  },
  {
   "cell_type": "markdown",
   "metadata": {},
   "source": [
    "Now let's check if the model has been saved successfully, and also use the model to make two simple predictios:"
   ]
  },
  {
   "cell_type": "code",
   "execution_count": 39,
   "metadata": {},
   "outputs": [],
   "source": [
    "model_load = pickle.load(open('model.pkl', 'rb'))"
   ]
  },
  {
   "cell_type": "code",
   "execution_count": 43,
   "metadata": {},
   "outputs": [
    {
     "data": {
      "text/plain": [
       "array([1, 0, 0, 0, 0, 0, 0, 0, 0, 0, 0, 0, 0, 0, 0, 0, 0, 0, 0, 0, 0, 0, 0,\n",
       "       0, 0, 0, 0, 0, 1, 0, 1, 0, 0, 0, 0, 0])"
      ]
     },
     "execution_count": 43,
     "metadata": {},
     "output_type": "execute_result"
    }
   ],
   "source": [
    "category_predicted = model_load.predict(['Storm is coming'])[0]\n",
    "category_predicted"
   ]
  },
  {
   "cell_type": "code",
   "execution_count": 44,
   "metadata": {
    "scrolled": true
   },
   "outputs": [
    {
     "data": {
      "text/plain": [
       "array([1, 1, 0, 0, 0, 0, 0, 0, 0, 0, 1, 0, 0, 0, 0, 0, 0, 0, 0, 0, 0, 0, 0,\n",
       "       0, 0, 0, 0, 0, 0, 0, 0, 0, 0, 0, 0, 0])"
      ]
     },
     "execution_count": 44,
     "metadata": {},
     "output_type": "execute_result"
    }
   ],
   "source": [
    "category_predicted = model_load.predict(['I need water'])[0]\n",
    "category_predicted"
   ]
  },
  {
   "cell_type": "markdown",
   "metadata": {},
   "source": [
    "It seems that our model has been successfully saved (and loaded) and made reasonable predictions for the two messages I made."
   ]
  },
  {
   "cell_type": "markdown",
   "metadata": {},
   "source": [
    "### 10. Use this notebook to complete `train.py`\n",
    "Use the template file attached in the Resources folder to write a script that runs the steps above to create a database and export a model based on a new dataset specified by the user."
   ]
  },
  {
   "cell_type": "code",
   "execution_count": null,
   "metadata": {},
   "outputs": [],
   "source": []
  }
 ],
 "metadata": {
  "kernelspec": {
   "display_name": "Python 3",
   "language": "python",
   "name": "python3"
  },
  "language_info": {
   "codemirror_mode": {
    "name": "ipython",
    "version": 3
   },
   "file_extension": ".py",
   "mimetype": "text/x-python",
   "name": "python",
   "nbconvert_exporter": "python",
   "pygments_lexer": "ipython3",
   "version": "3.6.3"
  }
 },
 "nbformat": 4,
 "nbformat_minor": 2
}
